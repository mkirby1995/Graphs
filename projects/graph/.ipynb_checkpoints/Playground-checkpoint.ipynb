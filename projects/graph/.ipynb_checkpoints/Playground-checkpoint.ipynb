{
 "cells": [
  {
   "cell_type": "code",
   "execution_count": 11,
   "metadata": {},
   "outputs": [],
   "source": [
    "from util import Stack, Queue  # These may come in handy\n",
    "\n",
    "from graph import Graph\n",
    "import random"
   ]
  },
  {
   "cell_type": "code",
   "execution_count": 12,
   "metadata": {},
   "outputs": [],
   "source": [
    "graph = Graph()"
   ]
  },
  {
   "cell_type": "code",
   "execution_count": 13,
   "metadata": {},
   "outputs": [],
   "source": [
    "graph.add_vertex(1)\n",
    "graph.add_vertex(2)\n",
    "graph.add_vertex(3)\n",
    "graph.add_vertex(4)\n",
    "graph.add_vertex(5)\n",
    "graph.add_vertex(6)\n",
    "graph.add_vertex(7)\n",
    "graph.add_edge(5, 3)\n",
    "graph.add_edge(6, 3)\n",
    "graph.add_edge(7, 1)\n",
    "graph.add_edge(4, 7)\n",
    "graph.add_edge(1, 2)\n",
    "graph.add_edge(7, 6)\n",
    "graph.add_edge(2, 4)\n",
    "graph.add_edge(3, 5)\n",
    "graph.add_edge(2, 3)\n",
    "graph.add_edge(4, 6)"
   ]
  },
  {
   "cell_type": "code",
   "execution_count": 14,
   "metadata": {},
   "outputs": [
    {
     "name": "stdout",
     "output_type": "stream",
     "text": [
      "{1: {2}, 2: {3, 4}, 3: {5}, 4: {6, 7}, 5: {3}, 6: {3}, 7: {1, 6}}\n"
     ]
    }
   ],
   "source": [
    "print(graph.vertices)"
   ]
  },
  {
   "cell_type": "code",
   "execution_count": 15,
   "metadata": {},
   "outputs": [
    {
     "name": "stdout",
     "output_type": "stream",
     "text": [
      "1\n",
      "2\n",
      "3\n",
      "4\n",
      "5\n",
      "6\n",
      "7\n"
     ]
    }
   ],
   "source": [
    "graph.bft(1)"
   ]
  },
  {
   "cell_type": "code",
   "execution_count": 16,
   "metadata": {},
   "outputs": [
    {
     "name": "stdout",
     "output_type": "stream",
     "text": [
      "1\n",
      "2\n",
      "4\n",
      "7\n",
      "6\n",
      "3\n",
      "5\n"
     ]
    }
   ],
   "source": [
    "graph.dft(1)"
   ]
  },
  {
   "cell_type": "code",
   "execution_count": 17,
   "metadata": {},
   "outputs": [
    {
     "name": "stdout",
     "output_type": "stream",
     "text": [
      "[1, 2, 4, 6]\n"
     ]
    }
   ],
   "source": [
    "print(graph.bfs(1, 6))"
   ]
  },
  {
   "cell_type": "code",
   "execution_count": 18,
   "metadata": {},
   "outputs": [
    {
     "name": "stdout",
     "output_type": "stream",
     "text": [
      "[1, 2, 4, 7, 6]\n"
     ]
    }
   ],
   "source": [
    "print(graph.dfs(1, 6))"
   ]
  },
  {
   "cell_type": "markdown",
   "metadata": {},
   "source": [
    "## Generated Graph"
   ]
  },
  {
   "cell_type": "code",
   "execution_count": 21,
   "metadata": {},
   "outputs": [
    {
     "name": "stdout",
     "output_type": "stream",
     "text": [
      "{30: {56, 46}, 46: {80, 50, 69}, 63: {3}, 54: {40, 9}, 59: {42, 74, 45}, 29: {11, 69}, 62: {91, 93}, 23: {3}, 91: {32, 62, 15}, 50: {92, 5}, 5: {80, 89, 4, 22}, 3: {56, 83, 71}, 67: {73, 76, 46, 55, 27, 93, 62}, 22: {63}, 4: {77, 15}, 34: {73}, 16: {69, 38, 74, 11, 77, 46, 79, 61}, 71: {81, 11, 100}, 47: set(), 81: {69, 6, 50, 19, 30}, 76: {42, 29, 87, 91, 93}, 10: {50, 10, 85, 38}, 89: {92, 38}, 74: {11, 52, 22}, 64: {73, 76, 61}, 9: {56, 88, 83, 11}, 6: {80, 61, 79, 15}, 40: set(), 90: {40, 90}, 51: {74, 45, 93}, 27: {56}, 19: {64}, 15: {38, 77, 47, 19, 93}, 78: {2, 71, 11, 77, 78, 52, 24, 91, 29, 31}, 31: {97, 34, 8, 77, 19, 23}, 56: {34, 52, 38, 23}, 45: {16, 92, 94}, 33: {34, 2, 40, 27, 87, 59, 29}, 87: {9, 90, 91}, 94: {33, 94, 79}, 80: {71, 8, 73, 77, 27}, 42: {46, 27, 52, 22}, 44: {67, 71, 81, 88, 56, 61}, 61: {24, 89, 93, 30}, 38: {6}, 55: {71}, 77: {22}, 79: {64, 63}, 97: {80, 33, 67, 15}, 73: {2, 67, 34, 22, 55}, 83: {63}, 100: {44, 78}, 85: {11, 51, 71}, 88: {10, 59, 92, 44}, 24: {89, 81, 3, 22}, 93: {32, 52}, 92: {9, 10, 11, 31}, 11: {24, 40, 59}, 69: {97, 4}, 32: {97, 59, 4, 87}, 8: {44, 61, 79}, 2: {62}, 52: {42, 46}}\n"
     ]
    }
   ],
   "source": [
    "generated_graph = Graph()\n",
    "\n",
    "verts = range(1, 101)\n",
    "\n",
    "for i in verts:\n",
    "    generated_graph.add_vertex(random.choice(verts))\n",
    "    \n",
    "for i in range(1, 201):\n",
    "    generated_graph.add_edge(\n",
    "        random.choice(list(generated_graph.vertices.keys())),\n",
    "        random.choice(list(generated_graph.vertices.keys()))\n",
    "    )\n",
    "    \n",
    "print(generated_graph.vertices)"
   ]
  },
  {
   "cell_type": "code",
   "execution_count": 30,
   "metadata": {},
   "outputs": [
    {
     "name": "stdout",
     "output_type": "stream",
     "text": [
      "[91, 32, 59, 74, 11, 24]\n"
     ]
    }
   ],
   "source": [
    "print(generated_graph.bfs(\n",
    "    random.choice(list(generated_graph.vertices.keys())),\n",
    "    random.choice(list(generated_graph.vertices.keys()))\n",
    "))"
   ]
  },
  {
   "cell_type": "code",
   "execution_count": 32,
   "metadata": {},
   "outputs": [
    {
     "name": "stdout",
     "output_type": "stream",
     "text": [
      "8\n",
      "44\n",
      "61\n",
      "79\n",
      "67\n",
      "71\n",
      "81\n",
      "88\n",
      "56\n",
      "24\n",
      "89\n",
      "93\n",
      "30\n",
      "64\n",
      "63\n",
      "73\n",
      "76\n",
      "46\n",
      "55\n",
      "27\n",
      "62\n",
      "11\n",
      "100\n",
      "69\n",
      "6\n",
      "50\n",
      "19\n",
      "10\n",
      "59\n",
      "92\n",
      "34\n",
      "52\n",
      "38\n",
      "23\n",
      "3\n",
      "22\n",
      "32\n",
      "2\n",
      "42\n",
      "29\n",
      "87\n",
      "91\n",
      "80\n",
      "40\n",
      "78\n",
      "97\n",
      "4\n",
      "15\n",
      "5\n",
      "85\n",
      "74\n",
      "45\n",
      "9\n",
      "31\n",
      "83\n",
      "90\n",
      "77\n",
      "33\n",
      "47\n",
      "51\n",
      "16\n",
      "94\n"
     ]
    }
   ],
   "source": [
    "generated_graph.bft(8)"
   ]
  },
  {
   "cell_type": "code",
   "execution_count": null,
   "metadata": {},
   "outputs": [],
   "source": []
  }
 ],
 "metadata": {
  "kernelspec": {
   "display_name": "Python 3",
   "language": "python",
   "name": "python3"
  },
  "language_info": {
   "codemirror_mode": {
    "name": "ipython",
    "version": 3
   },
   "file_extension": ".py",
   "mimetype": "text/x-python",
   "name": "python",
   "nbconvert_exporter": "python",
   "pygments_lexer": "ipython3",
   "version": "3.7.4"
  }
 },
 "nbformat": 4,
 "nbformat_minor": 4
}
